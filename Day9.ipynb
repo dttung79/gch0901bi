{
 "cells": [
  {
   "cell_type": "code",
   "execution_count": 1,
   "metadata": {},
   "outputs": [],
   "source": [
    "# check if n is a prime number\n",
    "def is_prime(n):\n",
    "    if n == 1:\n",
    "        return False\n",
    "    for i in range(2, n):\n",
    "        if n % i == 0:\n",
    "            return False\n",
    "    return True"
   ]
  },
  {
   "cell_type": "code",
   "execution_count": 2,
   "metadata": {},
   "outputs": [],
   "source": [
    "def is_prime_v2(n):\n",
    "    return len([i for i in range(2, int(n**0.5)+1) if n % i == 0]) == 0"
   ]
  },
  {
   "cell_type": "code",
   "execution_count": 3,
   "metadata": {},
   "outputs": [
    {
     "name": "stdout",
     "output_type": "stream",
     "text": [
      "[753, 603, 63, 416, 464, 12, 252, 561, 286, 468, 180, 867, 399, 703, 393, 694, 383, 493, 41, 150, 418, 599, 311, 978, 374, 607, 110, 789, 758, 349, 52, 382, 61, 953, 682, 886, 205, 51, 517, 90, 416, 127, 592, 467, 68, 924, 121, 281, 363, 160, 454, 495, 481, 773, 215, 777, 119, 664, 722, 556, 534, 660, 104, 376, 916, 446, 850, 927, 800, 166, 463, 632, 415, 405, 478, 151, 367, 411, 200, 412, 914, 931, 495, 995, 10, 559, 168, 34, 232, 836, 604, 409, 649, 522, 603, 140, 235, 369, 418, 166]\n"
     ]
    }
   ],
   "source": [
    "# a list of random numbers\n",
    "import random as rd \n",
    "numbers = [rd.randint(1, 1000) for i in range(100)]\n",
    "print(numbers)"
   ]
  },
  {
   "cell_type": "code",
   "execution_count": 5,
   "metadata": {},
   "outputs": [
    {
     "name": "stdout",
     "output_type": "stream",
     "text": [
      "[383, 41, 599, 311, 607, 349, 61, 953, 127, 467, 281, 773, 463, 151, 367, 409]\n"
     ]
    }
   ],
   "source": [
    "# filter prime numbers\n",
    "prime_numbers = list(filter(is_prime, numbers))\n",
    "print(prime_numbers)"
   ]
  },
  {
   "cell_type": "code",
   "execution_count": 6,
   "metadata": {},
   "outputs": [
    {
     "name": "stdout",
     "output_type": "stream",
     "text": [
      "[383, 41, 599, 311, 607, 349, 61, 953, 127, 467, 281, 773, 463, 151, 367, 409]\n"
     ]
    }
   ],
   "source": [
    "prime_numbers = list(filter(is_prime_v2, numbers))\n",
    "print(prime_numbers)"
   ]
  },
  {
   "cell_type": "code",
   "execution_count": 8,
   "metadata": {},
   "outputs": [
    {
     "name": "stdout",
     "output_type": "stream",
     "text": [
      "[753, 603, 63, 416, 464, 12, 252, 561, 286, 468, 180, 867, 399, 703, 393, 694, 493, 150, 418, 978, 374, 110, 789, 758, 52, 382, 682, 886, 205, 51, 517, 90, 416, 592, 68, 924, 121, 363, 160, 454, 495, 481, 215, 777, 119, 664, 722, 556, 534, 660, 104, 376, 916, 446, 850, 927, 800, 166, 632, 415, 405, 478, 411, 200, 412, 914, 931, 495, 995, 10, 559, 168, 34, 232, 836, 604, 649, 522, 603, 140, 235, 369, 418, 166]\n"
     ]
    }
   ],
   "source": [
    "# filter non-prime numbers\n",
    "non_prime_numbers = list(filter(lambda n: not is_prime(n), numbers))\n",
    "print(non_prime_numbers)"
   ]
  },
  {
   "cell_type": "code",
   "execution_count": 9,
   "metadata": {},
   "outputs": [
    {
     "name": "stdout",
     "output_type": "stream",
     "text": [
      "[205, 369]\n"
     ]
    }
   ],
   "source": [
    "list41 = [n for n in non_prime_numbers if n % 41 == 0]\n",
    "print(list41)"
   ]
  },
  {
   "cell_type": "code",
   "execution_count": 10,
   "metadata": {},
   "outputs": [
    {
     "name": "stdout",
     "output_type": "stream",
     "text": [
      "383 []\n",
      "41 [205, 369]\n",
      "599 []\n",
      "311 []\n",
      "607 []\n",
      "349 []\n",
      "61 []\n",
      "953 []\n",
      "127 []\n",
      "467 []\n",
      "281 []\n",
      "773 []\n",
      "463 []\n",
      "151 [604]\n",
      "367 []\n",
      "409 []\n"
     ]
    }
   ],
   "source": [
    "for p in prime_numbers:\n",
    "    listp = [n for n in non_prime_numbers if n % p == 0]\n",
    "    print(p, listp)"
   ]
  },
  {
   "cell_type": "code",
   "execution_count": null,
   "metadata": {},
   "outputs": [],
   "source": [
    "##### GENERATORS #######"
   ]
  },
  {
   "cell_type": "code",
   "execution_count": 19,
   "metadata": {},
   "outputs": [
    {
     "name": "stdout",
     "output_type": "stream",
     "text": [
      "[56, 75, 73, 18, 6, 88, 7, 55, 19, 51]\n",
      "<generator object <genexpr> at 0x10b82b5f0>\n"
     ]
    }
   ],
   "source": [
    "# Method 1\n",
    "numbers = rd.sample(range(1, 100), 10)\n",
    "even_gen = (n for n in numbers if n % 2 == 0)\n",
    "print(numbers)\n",
    "print(even_gen)"
   ]
  },
  {
   "cell_type": "code",
   "execution_count": 20,
   "metadata": {},
   "outputs": [
    {
     "name": "stdout",
     "output_type": "stream",
     "text": [
      "56 18 6 88 "
     ]
    }
   ],
   "source": [
    "for n in even_gen:\n",
    "    print(n, end=' ')"
   ]
  },
  {
   "cell_type": "code",
   "execution_count": 28,
   "metadata": {},
   "outputs": [],
   "source": [
    "numbers = rd.sample(range(-100, 100), 20)\n",
    "# use generator, calculate sum of negative numbers\n",
    "negative_gen = (n for n in numbers if n < 0)"
   ]
  },
  {
   "cell_type": "code",
   "execution_count": 29,
   "metadata": {},
   "outputs": [
    {
     "name": "stdout",
     "output_type": "stream",
     "text": [
      "-784\n"
     ]
    }
   ],
   "source": [
    "print(sum(negative_gen))"
   ]
  },
  {
   "cell_type": "code",
   "execution_count": 26,
   "metadata": {},
   "outputs": [],
   "source": [
    "# Method 2: using yield keyword\n",
    "def gen_negatives(numbers):\n",
    "    for n in numbers:\n",
    "        if n < 0:\n",
    "            yield n"
   ]
  },
  {
   "cell_type": "code",
   "execution_count": 30,
   "metadata": {},
   "outputs": [
    {
     "name": "stdout",
     "output_type": "stream",
     "text": [
      "-784\n"
     ]
    }
   ],
   "source": [
    "print(sum(gen_negatives(numbers)))"
   ]
  },
  {
   "cell_type": "code",
   "execution_count": 31,
   "metadata": {},
   "outputs": [],
   "source": [
    "# Using yield, write a generator that generates prime numbers from a list\n",
    "def gen_primes(numbers):\n",
    "    for n in numbers:\n",
    "        if is_prime(n):\n",
    "            yield n"
   ]
  },
  {
   "cell_type": "code",
   "execution_count": 34,
   "metadata": {},
   "outputs": [
    {
     "name": "stdout",
     "output_type": "stream",
     "text": [
      "[16, 60, 2, 74, 89, 4, 48, 78, 52, 34, 77, 79, 63, 96, 92, 38, 15, 46, 81, 33]\n"
     ]
    }
   ],
   "source": [
    "numbers = rd.sample(range(1, 100), 20)\n",
    "print(numbers)"
   ]
  },
  {
   "cell_type": "code",
   "execution_count": 38,
   "metadata": {},
   "outputs": [
    {
     "name": "stdout",
     "output_type": "stream",
     "text": [
      "2 89 79 "
     ]
    }
   ],
   "source": [
    "for n in gen_primes(numbers):\n",
    "    print(n, end=' ')"
   ]
  },
  {
   "cell_type": "code",
   "execution_count": 40,
   "metadata": {},
   "outputs": [],
   "source": [
    "# recursive Fibonacci function\n",
    "def fib(n):\n",
    "    if n == 0 or n == 1:\n",
    "        return n\n",
    "    return fib(n-1) + fib(n-2)"
   ]
  },
  {
   "cell_type": "code",
   "execution_count": 41,
   "metadata": {},
   "outputs": [
    {
     "name": "stdout",
     "output_type": "stream",
     "text": [
      "0 1 1 2 3 5 8 13 21 34 "
     ]
    }
   ],
   "source": [
    "for n in range(10):\n",
    "    print(fib(n), end=' ')"
   ]
  },
  {
   "cell_type": "code",
   "execution_count": null,
   "metadata": {},
   "outputs": [],
   "source": [
    "n = int(input('Enter a number: '))\n",
    "print('F{} = {}'.format(n, fib(n)))"
   ]
  },
  {
   "cell_type": "code",
   "execution_count": 2,
   "metadata": {},
   "outputs": [],
   "source": [
    "def fib_gen():\n",
    "    f0 = 0\n",
    "    f1 = 1\n",
    "    while True:\n",
    "        yield f0\n",
    "        temp = f0\n",
    "        f0 = f1 \n",
    "        f1 = temp + f0"
   ]
  },
  {
   "cell_type": "code",
   "execution_count": 4,
   "metadata": {},
   "outputs": [],
   "source": [
    "def fibonacci(n):\n",
    "    i = 0\n",
    "    for f in fib_gen():\n",
    "        if i == n:\n",
    "            return f\n",
    "        i += 1"
   ]
  },
  {
   "cell_type": "code",
   "execution_count": 7,
   "metadata": {},
   "outputs": [
    {
     "name": "stdout",
     "output_type": "stream",
     "text": [
      "F100 = 354224848179261915075\n"
     ]
    }
   ],
   "source": [
    "n = int(input('Enter a number: '))\n",
    "print('F{} = {}'.format(n, fibonacci(n)))"
   ]
  },
  {
   "cell_type": "code",
   "execution_count": 11,
   "metadata": {},
   "outputs": [
    {
     "name": "stdout",
     "output_type": "stream",
     "text": [
      "Total sales: 252\n"
     ]
    }
   ],
   "source": [
    "import numpy as np\n",
    "pizza_data = np.array([['John', '10:05', 5], \n",
    "                    ['Mary', '11:15', 3], \n",
    "                    ['Paul', '12:30', 7], \n",
    "                    ['Mike', '13:45', 6]])\n",
    "price = 12\n",
    "pizza_numbers = (int(row[2]) for row in pizza_data)\n",
    "pizza_sales = (price * n for n in pizza_numbers)\n",
    "print('Total sales:', sum(pizza_sales))"
   ]
  },
  {
   "cell_type": "code",
   "execution_count": 13,
   "metadata": {},
   "outputs": [],
   "source": [
    "# write a generator that generates odd numbers\n",
    "def gen_odds():\n",
    "    a0 = 1\n",
    "    while True:\n",
    "        yield a0\n",
    "        a0 += 2"
   ]
  },
  {
   "cell_type": "code",
   "execution_count": 14,
   "metadata": {},
   "outputs": [],
   "source": [
    "def odd(n):\n",
    "    i = 0\n",
    "    for a in gen_odds():\n",
    "        if i == n:\n",
    "            return a\n",
    "        i += 1"
   ]
  },
  {
   "cell_type": "code",
   "execution_count": 16,
   "metadata": {},
   "outputs": [
    {
     "name": "stdout",
     "output_type": "stream",
     "text": [
      "1 3 5 7 9 11 13 15 17 19 "
     ]
    }
   ],
   "source": [
    "# print 10 odd numbers\n",
    "for n in range(10):\n",
    "    print(odd(n), end=' ')"
   ]
  },
  {
   "cell_type": "code",
   "execution_count": 18,
   "metadata": {},
   "outputs": [],
   "source": [
    "def tub_gen():\n",
    "    f0 = 1\n",
    "    f1 = 1\n",
    "    while True:\n",
    "        yield f0\n",
    "        # temp = f0\n",
    "        # f0 = f1\n",
    "        # f1 = 2 * temp + f0\n",
    "        f0, f1 = f1, 2*f0 + f1"
   ]
  },
  {
   "cell_type": "code",
   "execution_count": 19,
   "metadata": {},
   "outputs": [
    {
     "name": "stdout",
     "output_type": "stream",
     "text": [
      "1 1 3 5 11 21 43 85 171 341 "
     ]
    }
   ],
   "source": [
    "def tubonacci(n):\n",
    "    i = 0\n",
    "    for t in tub_gen():\n",
    "        if i == n:\n",
    "            return t\n",
    "        i += 1\n",
    "\n",
    "for n in range(10):\n",
    "    print(tubonacci(n), end=' ')"
   ]
  },
  {
   "cell_type": "code",
   "execution_count": 20,
   "metadata": {},
   "outputs": [],
   "source": [
    "def gen_numbers(n, g):\n",
    "    i = 0\n",
    "    for a in g:\n",
    "        if i == n:\n",
    "            return a\n",
    "        i += 1"
   ]
  },
  {
   "cell_type": "code",
   "execution_count": 24,
   "metadata": {},
   "outputs": [
    {
     "name": "stdout",
     "output_type": "stream",
     "text": [
      "34\n"
     ]
    }
   ],
   "source": [
    "fibonacci = lambda n: gen_numbers(n, fib_gen())\n",
    "print(fibonacci(9))"
   ]
  },
  {
   "cell_type": "code",
   "execution_count": 25,
   "metadata": {},
   "outputs": [
    {
     "name": "stdout",
     "output_type": "stream",
     "text": [
      "19\n"
     ]
    }
   ],
   "source": [
    "odds = lambda n: gen_numbers(n, gen_odds())\n",
    "print(odds(9))"
   ]
  },
  {
   "cell_type": "code",
   "execution_count": 26,
   "metadata": {},
   "outputs": [
    {
     "name": "stdout",
     "output_type": "stream",
     "text": [
      "341\n"
     ]
    }
   ],
   "source": [
    "tubonacci = lambda n: gen_numbers(n, tub_gen())\n",
    "print(tubonacci(9))"
   ]
  },
  {
   "cell_type": "code",
   "execution_count": 28,
   "metadata": {},
   "outputs": [],
   "source": [
    "# generate pyramidal numbers\n",
    "def pyramid_gen():\n",
    "    f0 = 1\n",
    "    n = 1\n",
    "    while True:\n",
    "        yield f0\n",
    "        n += 1\n",
    "        f0 = f0 + n**2"
   ]
  },
  {
   "cell_type": "code",
   "execution_count": 30,
   "metadata": {},
   "outputs": [
    {
     "name": "stdout",
     "output_type": "stream",
     "text": [
      "55\n"
     ]
    }
   ],
   "source": [
    "pyramidal = lambda n: gen_numbers(n, pyramid_gen())\n",
    "print(pyramidal(4))"
   ]
  }
 ],
 "metadata": {
  "interpreter": {
   "hash": "397704579725e15f5c7cb49fe5f0341eb7531c82d19f2c29d197e8b64ab5776b"
  },
  "kernelspec": {
   "display_name": "Python 3.9.1 64-bit",
   "language": "python",
   "name": "python3"
  },
  "language_info": {
   "codemirror_mode": {
    "name": "ipython",
    "version": 3
   },
   "file_extension": ".py",
   "mimetype": "text/x-python",
   "name": "python",
   "nbconvert_exporter": "python",
   "pygments_lexer": "ipython3",
   "version": "3.9.1"
  },
  "orig_nbformat": 4
 },
 "nbformat": 4,
 "nbformat_minor": 2
}
