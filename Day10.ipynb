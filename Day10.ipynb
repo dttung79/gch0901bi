{
 "cells": [
  {
   "cell_type": "code",
   "execution_count": 9,
   "metadata": {},
   "outputs": [
    {
     "name": "stdout",
     "output_type": "stream",
     "text": [
      "<class 'list'>\n"
     ]
    }
   ],
   "source": [
    "f = open('Datasets/agencies.txt', 'r') # Windows: \\\\\n",
    "# file name: absolute path, relative path\n",
    "# open type: r, w, a, \n",
    "lines = f.readlines()\n",
    "print(type(lines))"
   ]
  },
  {
   "cell_type": "code",
   "execution_count": 2,
   "metadata": {},
   "outputs": [
    {
     "name": "stdout",
     "output_type": "stream",
     "text": [
      "['Federal Bureau of Investigation\\n', 'Central Intelligence Agency\\n', 'The Triboro Bridge and Tunnel Authority\\n', 'Housing and Urban Development\\n', 'The Metropolitan Transit Authority\\n', 'The Port Authority of New York and New Jersey\\n']\n"
     ]
    }
   ],
   "source": [
    "print(lines)"
   ]
  },
  {
   "cell_type": "code",
   "execution_count": 7,
   "metadata": {},
   "outputs": [
    {
     "name": "stdout",
     "output_type": "stream",
     "text": [
      "Federal Bureau of Investigation\n",
      "Central Intelligence Agency\n",
      "The Triboro Bridge and Tunnel Authority\n",
      "Housing and Urban Development\n",
      "The Metropolitan Transit Authority\n",
      "The Port Authority of New York and New Jersey\n"
     ]
    }
   ],
   "source": [
    "for li in lines:\n",
    "    print(li[:-1])\n",
    "\n",
    "f.close()"
   ]
  },
  {
   "cell_type": "code",
   "execution_count": 10,
   "metadata": {},
   "outputs": [
    {
     "name": "stdout",
     "output_type": "stream",
     "text": [
      "Federal Bureau of Investigation\n",
      "Central Intelligence Agency\n",
      "The Triboro Bridge and Tunnel Authority\n",
      "Housing and Urban Development\n",
      "The Metropolitan Transit Authority\n",
      "The Port Authority of New York and New Jersey\n"
     ]
    }
   ],
   "source": [
    "f = open('Datasets/agencies.txt', 'r')\n",
    "while True:\n",
    "    line = f.readline()\n",
    "    if not line:\n",
    "        break\n",
    "    print(line[:-1])\n",
    "\n",
    "f.close()"
   ]
  },
  {
   "cell_type": "code",
   "execution_count": 11,
   "metadata": {},
   "outputs": [
    {
     "name": "stdout",
     "output_type": "stream",
     "text": [
      "Federal Bureau of Investigation\n",
      "Central Intelligence Agency\n",
      "The Triboro Bridge and Tunnel Authority\n",
      "Housing and Urban Development\n",
      "The Metropolitan Transit Authority\n",
      "The Port Authority of New York and New Jersey\n"
     ]
    }
   ],
   "source": [
    "# using with = auto close\n",
    "with open('Datasets/agencies.txt', 'r') as f:\n",
    "    while True:\n",
    "        line = f.readline()\n",
    "        if not line:\n",
    "            break\n",
    "        print(line[:-1])"
   ]
  },
  {
   "cell_type": "code",
   "execution_count": null,
   "metadata": {},
   "outputs": [],
   "source": [
    "# print \"Name\", \"Email\" 25 width columns\n",
    "print('{:<25} {:<25}'.format(\"Name\", \"Email\"))\n",
    "# read authors.txt file\n",
    "with open('authors.txt', 'r') as f:\n",
    "    lines = f.readlines()\n",
    "    # remove 3 first lines\n",
    "    lines = lines[3:]\n",
    "    # split line into name and email using '<'\n",
    "    for line in lines:\n",
    "        name, email = line.split('<')\n",
    "        print('{:<25} {:<25}'.format(name[:-1], email[:-2]))"
   ]
  },
  {
   "cell_type": "code",
   "execution_count": 19,
   "metadata": {},
   "outputs": [
    {
     "name": "stdout",
     "output_type": "stream",
     "text": [
      "Name                     Grade\n",
      "Le Minh Huong            6.5  \n",
      "Bui Phuong Nam           0    \n",
      "Nguyen The Dat           6.5  \n",
      "Pham Minh Thang          6.5  \n",
      "Do Duy Tung              6.5  \n"
     ]
    }
   ],
   "source": [
    "import numpy as np\n",
    "logins, emails, codes, names, grades = np.loadtxt('gradebook.txt',\n",
    "        skiprows=7, unpack=True, delimiter='\\t', dtype=str)\n",
    "\n",
    "print('{0:25}{1:5}'.format('Name', 'Grade'))\n",
    "for i in range(len(names)):\n",
    "    print('{:25}{:5}'.format(names[i], grades[i]))"
   ]
  },
  {
   "cell_type": "code",
   "execution_count": 20,
   "metadata": {},
   "outputs": [
    {
     "name": "stdout",
     "output_type": "stream",
     "text": [
      "['Le Minh Huong' 'Bui Phuong Nam' 'Nguyen The Dat' 'Pham Minh Thang'\n",
      " 'Do Duy Tung'] ['6.5' '0' '6.5' '6.5' '6.5']\n"
     ]
    }
   ],
   "source": [
    "names, grades = np.loadtxt('gradebook.txt', skiprows=7, unpack=True, \n",
    "        delimiter='\\t', dtype=str, usecols=(3,4))\n",
    "print(names, grades)\n"
   ]
  }
 ],
 "metadata": {
  "interpreter": {
   "hash": "397704579725e15f5c7cb49fe5f0341eb7531c82d19f2c29d197e8b64ab5776b"
  },
  "kernelspec": {
   "display_name": "Python 3.9.1 64-bit",
   "language": "python",
   "name": "python3"
  },
  "language_info": {
   "codemirror_mode": {
    "name": "ipython",
    "version": 3
   },
   "file_extension": ".py",
   "mimetype": "text/x-python",
   "name": "python",
   "nbconvert_exporter": "python",
   "pygments_lexer": "ipython3",
   "version": "3.9.1"
  },
  "orig_nbformat": 4
 },
 "nbformat": 4,
 "nbformat_minor": 2
}
