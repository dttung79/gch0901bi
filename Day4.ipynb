{
 "cells": [
  {
   "cell_type": "code",
   "execution_count": 1,
   "metadata": {},
   "outputs": [],
   "source": [
    "import numpy as np\n",
    "y = np.array([0., 1.3, 5. , 10.9, 18.9, 28.7, 40.]) \n",
    "t = np.array([0., 0.49, 1. , 1.5 , 2.08, 2.55, 3.2]) \n",
    "# Calculate v"
   ]
  },
  {
   "cell_type": "code",
   "execution_count": 2,
   "metadata": {},
   "outputs": [
    {
     "name": "stdout",
     "output_type": "stream",
     "text": [
      "[ 0.          2.65306122  7.25490196 11.8        13.79310345 20.85106383\n",
      " 17.38461538]\n"
     ]
    }
   ],
   "source": [
    "v = np.zeros(7)\n",
    "i = 1\n",
    "\n",
    "while i < len(y):\n",
    "    v[i] = (y[i] - y[i-1]) / (t[i] - t[i-1])\n",
    "    i += 1\n",
    "\n",
    "print(v)"
   ]
  },
  {
   "cell_type": "code",
   "execution_count": 3,
   "metadata": {},
   "outputs": [
    {
     "name": "stdout",
     "output_type": "stream",
     "text": [
      "[ 2.65306122  7.25490196 11.8        13.79310345 20.85106383 17.38461538]\n"
     ]
    }
   ],
   "source": [
    "print((y[1:] - y[:-1])/(t[1:] - t[:-1]))\n"
   ]
  },
  {
   "cell_type": "code",
   "execution_count": 6,
   "metadata": {},
   "outputs": [
    {
     "name": "stdout",
     "output_type": "stream",
     "text": [
      "['John Lennon' 'Mike Tyson' 'Duong Van Linh' 'Hoang' 'John Doe' 'John Doe'\n",
      " 'Paul']\n"
     ]
    }
   ],
   "source": [
    "names = np.array(['John Lennon', 'Mike Tyson', 'Duong Van Linh', 'Hoang', '', '', 'Paul'])\n",
    "names[names == ''] = 'John Doe'\n",
    "print(names)"
   ]
  },
  {
   "cell_type": "code",
   "execution_count": 7,
   "metadata": {},
   "outputs": [
    {
     "name": "stdout",
     "output_type": "stream",
     "text": [
      "[  0  28  38 150   0  22]\n"
     ]
    }
   ],
   "source": [
    "ages = np.array([-10, 28, 38, 189, 0, 22])\n",
    "ages[ages<0] = 0\n",
    "ages[ages>150] = 150\n",
    "print(ages)"
   ]
  },
  {
   "cell_type": "code",
   "execution_count": 8,
   "metadata": {},
   "outputs": [
    {
     "name": "stdout",
     "output_type": "stream",
     "text": [
      "Min age: 0\n",
      "Max age: 150\n"
     ]
    }
   ],
   "source": [
    "min_age = min(ages)\n",
    "max_age = max(ages)\n",
    "print('Min age:', min_age)\n",
    "print('Max age:', max_age)"
   ]
  },
  {
   "cell_type": "code",
   "execution_count": 11,
   "metadata": {},
   "outputs": [
    {
     "name": "stdout",
     "output_type": "stream",
     "text": [
      "Longest name: Duong Van Linh\n",
      "Shortest name: Paul\n"
     ]
    }
   ],
   "source": [
    "longest_name = max(names, key=len)\n",
    "shortest_name = min(names, key=len)\n",
    "print('Longest name:', longest_name)\n",
    "print('Shortest name:', shortest_name)"
   ]
  },
  {
   "cell_type": "code",
   "execution_count": 13,
   "metadata": {},
   "outputs": [
    {
     "name": "stdout",
     "output_type": "stream",
     "text": [
      "[11, 10, 14, 5, 8, 8, 4]\n",
      "14\n",
      "4\n"
     ]
    }
   ],
   "source": [
    "len_names = [len(n) for n in names] # list comprehension\n",
    "print(len_names)\n",
    "print(max(len_names))\n",
    "print(min(len_names))"
   ]
  },
  {
   "cell_type": "code",
   "execution_count": 15,
   "metadata": {},
   "outputs": [
    {
     "name": "stdout",
     "output_type": "stream",
     "text": [
      "[[0 0 0 0 0]\n",
      " [0 0 0 0 0]\n",
      " [0 0 0 0 0]\n",
      " [0 0 0 0 0]\n",
      " [0 0 0 0 0]]\n"
     ]
    }
   ],
   "source": [
    "# create 2d arrays\n",
    "a = np.zeros((5, 5), dtype=int)\n",
    "print(a)"
   ]
  },
  {
   "cell_type": "code",
   "execution_count": 18,
   "metadata": {},
   "outputs": [
    {
     "name": "stdout",
     "output_type": "stream",
     "text": [
      "[list([1, 2, 3]) list([4, 5, 6, 5])]\n"
     ]
    },
    {
     "name": "stderr",
     "output_type": "stream",
     "text": [
      "<ipython-input-18-1af537f5e0d5>:1: VisibleDeprecationWarning: Creating an ndarray from ragged nested sequences (which is a list-or-tuple of lists-or-tuples-or ndarrays with different lengths or shapes) is deprecated. If you meant to do this, you must specify 'dtype=object' when creating the ndarray.\n",
      "  a = np.array([[1, 2, 3], [4, 5, 6, 5]])\n"
     ]
    }
   ],
   "source": [
    "a = np.array([[1, 2, 3], [4, 5, 6]])\n",
    "print(a)"
   ]
  },
  {
   "cell_type": "code",
   "execution_count": 20,
   "metadata": {},
   "outputs": [
    {
     "name": "stdout",
     "output_type": "stream",
     "text": [
      "[[1 2]\n",
      " [3 4]\n",
      " [5 6]]\n"
     ]
    }
   ],
   "source": [
    "a = [1, 2, 3, 4, 5, 6] # 1d list\n",
    "a = np.reshape(a, (3, 2))\n",
    "print(a)"
   ]
  },
  {
   "cell_type": "code",
   "execution_count": 21,
   "metadata": {},
   "outputs": [
    {
     "name": "stdout",
     "output_type": "stream",
     "text": [
      "[[-96  -1  -3  89 -12  53  35  91]\n",
      " [ 10 -18  34  49 -71  81 -43  93]\n",
      " [ 41 -75 -23 -79  22  10 -55  14]\n",
      " [  9 -43  73   5 -69  -7  -7 -49]\n",
      " [ 87 -50 -56  -7 -66  93 -53 -79]\n",
      " [-83  96  57  91  71 -68  33 -45]\n",
      " [-79  15   6 -91  55 -14 -14  52]\n",
      " [-31  18  27  76  65 -49   5  15]]\n"
     ]
    }
   ],
   "source": [
    "# create array of random numbers\n",
    "a = np.random.randint(-99, 100, (8, 8))\n",
    "print(a)"
   ]
  },
  {
   "cell_type": "code",
   "execution_count": 22,
   "metadata": {},
   "outputs": [
    {
     "name": "stdout",
     "output_type": "stream",
     "text": [
      "[[ 41 -75 -23 -79  22  10 -55  14]\n",
      " [  9 -43  73   5 -69  -7  -7 -49]\n",
      " [ 87 -50 -56  -7 -66  93 -53 -79]]\n"
     ]
    }
   ],
   "source": [
    "print(a[2:5])"
   ]
  },
  {
   "cell_type": "code",
   "execution_count": 25,
   "metadata": {},
   "outputs": [
    {
     "name": "stdout",
     "output_type": "stream",
     "text": [
      "[[-79  15   6 -91  55 -14 -14  52]\n",
      " [-31  18  27  76  65 -49   5  15]]\n",
      "\n",
      "[[-79  15   6 -91  55 -14 -14  52]\n",
      " [-31  18  27  76  65 -49   5  15]]\n"
     ]
    }
   ],
   "source": [
    "print(a[6:], a[-2:], sep='\\n\\n')"
   ]
  },
  {
   "cell_type": "code",
   "execution_count": 27,
   "metadata": {},
   "outputs": [
    {
     "name": "stdout",
     "output_type": "stream",
     "text": [
      "[[1 1 1 1 1 1 1 1]\n",
      " [1 0 0 0 0 0 0 1]\n",
      " [1 0 0 0 0 0 0 1]\n",
      " [1 0 0 0 0 0 0 1]\n",
      " [1 0 0 0 0 0 0 1]\n",
      " [1 0 0 0 0 0 0 1]\n",
      " [1 0 0 0 0 0 0 1]\n",
      " [1 1 1 1 1 1 1 1]]\n"
     ]
    }
   ],
   "source": [
    "# a.1\n",
    "a = np.zeros((8, 8), dtype=int)\n",
    "a[0] = 1      # 1st row\n",
    "a[-1] = 1     # last row\n",
    "a[:, 0] = 1   # 1st column\n",
    "a[:, -1] = 1  # last column\n",
    "print(a)"
   ]
  },
  {
   "cell_type": "code",
   "execution_count": 28,
   "metadata": {},
   "outputs": [
    {
     "name": "stdout",
     "output_type": "stream",
     "text": [
      "[[1 1 1 1 1 1 1 1]\n",
      " [1 0 0 0 0 0 0 1]\n",
      " [1 0 0 0 0 0 0 1]\n",
      " [1 0 0 0 0 0 0 1]\n",
      " [1 0 0 0 0 0 0 1]\n",
      " [1 0 0 0 0 0 0 1]\n",
      " [1 0 0 0 0 0 0 1]\n",
      " [1 1 1 1 1 1 1 1]]\n"
     ]
    }
   ],
   "source": [
    "# a.2\n",
    "a = np.ones((8, 8), dtype=int)\n",
    "a[1:-1, 1:-1] = 0\n",
    "print(a)"
   ]
  }
 ],
 "metadata": {
  "interpreter": {
   "hash": "397704579725e15f5c7cb49fe5f0341eb7531c82d19f2c29d197e8b64ab5776b"
  },
  "kernelspec": {
   "display_name": "Python 3.9.1 64-bit",
   "language": "python",
   "name": "python3"
  },
  "language_info": {
   "codemirror_mode": {
    "name": "ipython",
    "version": 3
   },
   "file_extension": ".py",
   "mimetype": "text/x-python",
   "name": "python",
   "nbconvert_exporter": "python",
   "pygments_lexer": "ipython3",
   "version": "3.9.1"
  },
  "orig_nbformat": 4
 },
 "nbformat": 4,
 "nbformat_minor": 2
}
