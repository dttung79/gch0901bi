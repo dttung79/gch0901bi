{
 "cells": [
  {
   "cell_type": "code",
   "execution_count": 1,
   "metadata": {},
   "outputs": [
    {
     "name": "stdout",
     "output_type": "stream",
     "text": [
      "[[1, 2, 3], [4, 5, 6], [7, 8, 9]]\n"
     ]
    }
   ],
   "source": [
    "a = [],\n",
    "     [7, 8, 9]][1, 2, 3],\n",
    "     [4, 5, 6\n",
    "print(a)"
   ]
  },
  {
   "cell_type": "code",
   "execution_count": 2,
   "metadata": {},
   "outputs": [],
   "source": [
    "def print_matrix(m):\n",
    "    for row in m:\n",
    "        print(row)"
   ]
  },
  {
   "cell_type": "code",
   "execution_count": 3,
   "metadata": {},
   "outputs": [
    {
     "name": "stdout",
     "output_type": "stream",
     "text": [
      "[1, 2, 3]\n",
      "[4, 5, 6]\n",
      "[7, 8, 9]\n"
     ]
    }
   ],
   "source": [
    "print_matrix(a)"
   ]
  },
  {
   "cell_type": "code",
   "execution_count": 4,
   "metadata": {},
   "outputs": [
    {
     "name": "stdout",
     "output_type": "stream",
     "text": [
      "[4, 5, 6]\n"
     ]
    }
   ],
   "source": [
    "r = a[1]\n",
    "print(r)"
   ]
  },
  {
   "cell_type": "code",
   "execution_count": 6,
   "metadata": {},
   "outputs": [
    {
     "name": "stdout",
     "output_type": "stream",
     "text": [
      "[4, 5, 6]\n",
      "[7, 8, 9]\n"
     ]
    }
   ],
   "source": [
    "m1 = a[1:]\n",
    "print_matrix(m1)"
   ]
  },
  {
   "cell_type": "code",
   "execution_count": 8,
   "metadata": {},
   "outputs": [],
   "source": [
    "import random as rd\n",
    "a = [list(rd.sample(range(10, 100), 5)),\n",
    "     list(rd.sample(range(10, 100), 5)),\n",
    "     list(rd.sample(range(10, 100), 5)),\n",
    "     list(rd.sample(range(10, 100), 5)),\n",
    "     list(rd.sample(range(10, 100), 5))]"
   ]
  },
  {
   "cell_type": "code",
   "execution_count": 9,
   "metadata": {},
   "outputs": [
    {
     "name": "stdout",
     "output_type": "stream",
     "text": [
      "[11, 47, 36, 25, 42]\n",
      "[10, 22, 68, 35, 59]\n",
      "[88, 90, 19, 96, 21]\n",
      "[96, 83, 13, 70, 60]\n",
      "[98, 36, 58, 17, 81]\n"
     ]
    }
   ],
   "source": [
    "print_matrix(a)"
   ]
  },
  {
   "cell_type": "code",
   "execution_count": 11,
   "metadata": {},
   "outputs": [
    {
     "name": "stdout",
     "output_type": "stream",
     "text": [
      "[10, 22, 68, 35, 59]\n",
      "[88, 90, 19, 96, 21]\n",
      "[96, 83, 13, 70, 60]\n",
      "[10, 22, 68, 35, 59]\n",
      "[88, 90, 19, 96, 21]\n",
      "[96, 83, 13, 70, 60]\n",
      "[10, 22, 68, 35, 59]\n",
      "[88, 90, 19, 96, 21]\n",
      "[96, 83, 13, 70, 60]\n",
      "[10, 22, 68, 35, 59]\n",
      "[88, 90, 19, 96, 21]\n",
      "[96, 83, 13, 70, 60]\n"
     ]
    }
   ],
   "source": [
    "middle = a[1:4]\n",
    "print_matrix(middle)\n",
    "middle = a[-4:-1]\n",
    "print_matrix(middle)\n",
    "middle = a[1:-1]\n",
    "print_matrix(middle)\n",
    "middle = a[-4:4]\n",
    "print_matrix(middle)"
   ]
  },
  {
   "cell_type": "code",
   "execution_count": 13,
   "metadata": {},
   "outputs": [
    {
     "name": "stdout",
     "output_type": "stream",
     "text": [
      "[96, 83, 13, 70, 60]\n",
      "[98, 36, 58, 17, 81]\n",
      "[96, 83, 13, 70, 60]\n",
      "[98, 36, 58, 17, 81]\n",
      "[96, 83, 13, 70, 60]\n",
      "[98, 36, 58, 17, 81]\n",
      "[96, 83, 13, 70, 60]\n",
      "[98, 36, 58, 17, 81]\n"
     ]
    }
   ],
   "source": [
    "last_rows = a[3:5]\n",
    "print_matrix(last_rows)\n",
    "last_rows = a[3:]\n",
    "print_matrix(last_rows)\n",
    "last_rows = a[-2:]\n",
    "print_matrix(last_rows)\n",
    "last_rows = a[-2:5]\n",
    "print_matrix(last_rows)"
   ]
  },
  {
   "cell_type": "code",
   "execution_count": 22,
   "metadata": {},
   "outputs": [
    {
     "name": "stdout",
     "output_type": "stream",
     "text": [
      "Min of a[3] = 13\n",
      "Max of a[3] = 96\n",
      "Sum of a[3] = 322\n",
      "Sort of a[3] = [13, 60, 70, 83, 96]\n"
     ]
    }
   ],
   "source": [
    "n = int(input('Enter n: '))\n",
    "if -len(a) <= n < len(a):\n",
    "    min_nrow = min(a[n])\n",
    "    max_nrow = max(a[n])\n",
    "    sum_nrow = sum(a[n])\n",
    "    sorted_nrow = sorted(a[n])\n",
    "    print('Min of a[{0}] = {1}'.format(n, min_nrow))\n",
    "    print('Max of a[{0}] = {1}'.format(n, max_nrow))\n",
    "    print('Sum of a[{0}] = {1}'.format(n, sum_nrow))\n",
    "    print('Sort of a[{0}] = {1}'.format(n, sorted_nrow))\n",
    "else:\n",
    "    print('Invalid n')"
   ]
  },
  {
   "cell_type": "code",
   "execution_count": 24,
   "metadata": {},
   "outputs": [
    {
     "name": "stdout",
     "output_type": "stream",
     "text": [
      "[4, 9, 10, 2, 0]\n",
      "[0, 2, 4, 9, 10]\n",
      "[0, 2, 4, 9, 10]\n"
     ]
    }
   ],
   "source": [
    "a = [4, 9, 10, 2, 0]\n",
    "b = sorted(a)\n",
    "print(a, b, sep='\\n')\n",
    "a.sort()\n",
    "print(a)"
   ]
  },
  {
   "cell_type": "code",
   "execution_count": 25,
   "metadata": {},
   "outputs": [
    {
     "name": "stdout",
     "output_type": "stream",
     "text": [
      "[10, 9, 4, 2, 0]\n"
     ]
    }
   ],
   "source": [
    "b = sorted(a, reverse=True)\n",
    "print(b)"
   ]
  },
  {
   "cell_type": "code",
   "execution_count": 27,
   "metadata": {},
   "outputs": [],
   "source": [
    "names = ['John Lennon', 'Demba Ba', 'Mike Tyson', 'Paul McCarteney', 'Cong Tang Ton Nu Nguyen Thi Huong']"
   ]
  },
  {
   "cell_type": "code",
   "execution_count": 29,
   "metadata": {},
   "outputs": [
    {
     "name": "stdout",
     "output_type": "stream",
     "text": [
      "Cong Tang Ton Nu Nguyen Thi Huong\n",
      "Paul McCarteney\n"
     ]
    }
   ],
   "source": [
    "print(min(names))\n",
    "print(max(names))"
   ]
  },
  {
   "cell_type": "code",
   "execution_count": 30,
   "metadata": {},
   "outputs": [
    {
     "name": "stdout",
     "output_type": "stream",
     "text": [
      "Demba Ba\n",
      "Cong Tang Ton Nu Nguyen Thi Huong\n"
     ]
    }
   ],
   "source": [
    "print(min(names, key=len))\n",
    "print(max(names, key=len))"
   ]
  },
  {
   "cell_type": "code",
   "execution_count": 32,
   "metadata": {},
   "outputs": [
    {
     "name": "stdout",
     "output_type": "stream",
     "text": [
      "['Cong Tang Ton Nu Nguyen Thi Huong', 'Paul McCarteney', 'John Lennon', 'Mike Tyson', 'Demba Ba']\n"
     ]
    }
   ],
   "source": [
    "print(sorted(names, key=len, reverse=True))"
   ]
  },
  {
   "cell_type": "code",
   "execution_count": 33,
   "metadata": {},
   "outputs": [],
   "source": [
    "import numpy as np"
   ]
  },
  {
   "cell_type": "code",
   "execution_count": 34,
   "metadata": {},
   "outputs": [
    {
     "name": "stdout",
     "output_type": "stream",
     "text": [
      "[0, 2, 4, 9, 10] <class 'list'>\n"
     ]
    }
   ],
   "source": [
    "print(a, type(a))"
   ]
  },
  {
   "cell_type": "code",
   "execution_count": 35,
   "metadata": {},
   "outputs": [
    {
     "name": "stdout",
     "output_type": "stream",
     "text": [
      "[ 0  2  4  9 10] <class 'numpy.ndarray'>\n"
     ]
    }
   ],
   "source": [
    "a = np.array(a)\n",
    "print(a, type(a))"
   ]
  },
  {
   "cell_type": "code",
   "execution_count": 37,
   "metadata": {},
   "outputs": [
    {
     "name": "stdout",
     "output_type": "stream",
     "text": [
      "[ 1  2  3  4  5  6  7  8  9 10]\n"
     ]
    }
   ],
   "source": [
    "numbers = np.linspace(1, 10, 10, dtype=int)\n",
    "print(numbers)"
   ]
  },
  {
   "cell_type": "code",
   "execution_count": 42,
   "metadata": {},
   "outputs": [
    {
     "name": "stdout",
     "output_type": "stream",
     "text": [
      "[1 3 5 7 9]\n",
      "[ 0  2  4  6  8 10]\n"
     ]
    }
   ],
   "source": [
    "odds = np.linspace(1, 9, 5, dtype=int)\n",
    "print(odds)\n",
    "evens = np.linspace(0, 10, 6, dtype=int)\n",
    "print(evens)"
   ]
  },
  {
   "cell_type": "code",
   "execution_count": 46,
   "metadata": {},
   "outputs": [
    {
     "name": "stdout",
     "output_type": "stream",
     "text": [
      "[0.   0.02 0.04 0.06 0.08 0.1  0.12 0.14 0.16 0.18 0.2  0.22 0.24 0.26\n",
      " 0.28 0.3  0.32 0.34 0.36 0.38 0.4  0.42 0.44 0.46 0.48 0.5  0.52 0.54\n",
      " 0.56 0.58 0.6  0.62 0.64 0.66 0.68 0.7  0.72 0.74 0.76 0.78 0.8  0.82\n",
      " 0.84 0.86 0.88 0.9  0.92 0.94 0.96 0.98]\n"
     ]
    }
   ],
   "source": [
    "floats = np.linspace(0, 1, 50, endpoint=False)\n",
    "print(floats)"
   ]
  },
  {
   "cell_type": "code",
   "execution_count": 48,
   "metadata": {},
   "outputs": [
    {
     "name": "stdout",
     "output_type": "stream",
     "text": [
      "[ 0.          1.11111111  2.22222222  3.33333333  4.44444444  5.55555556\n",
      "  6.66666667  7.77777778  8.88888889 10.        ]\n"
     ]
    }
   ],
   "source": [
    "numbers = np.linspace(0, 10, 10)\n",
    "print(numbers)"
   ]
  },
  {
   "cell_type": "code",
   "execution_count": 49,
   "metadata": {},
   "outputs": [
    {
     "name": "stdout",
     "output_type": "stream",
     "text": [
      "[0. 1. 2. 3. 4. 5. 6. 7. 8. 9.]\n"
     ]
    }
   ],
   "source": [
    "numbers = np.linspace(0, 10, 10, endpoint=False)\n",
    "print(numbers)"
   ]
  },
  {
   "cell_type": "code",
   "execution_count": 52,
   "metadata": {},
   "outputs": [
    {
     "name": "stdout",
     "output_type": "stream",
     "text": [
      "[1.e+00 1.e+01 1.e+02 1.e+03 1.e+04 1.e+05 1.e+06 1.e+07 1.e+08 1.e+09]\n"
     ]
    }
   ],
   "source": [
    "numbers = np.logspace(0, 10, 10, endpoint=False)\n",
    "print(numbers)"
   ]
  },
  {
   "cell_type": "code",
   "execution_count": 53,
   "metadata": {},
   "outputs": [
    {
     "name": "stdout",
     "output_type": "stream",
     "text": [
      "[1, 2, 3, 4, 5, 6, 7, 8, 9]\n"
     ]
    }
   ],
   "source": [
    "a = list(range(1, 10))\n",
    "print(a)"
   ]
  },
  {
   "cell_type": "code",
   "execution_count": 54,
   "metadata": {},
   "outputs": [
    {
     "name": "stdout",
     "output_type": "stream",
     "text": [
      "[1 2 3 4 5 6 7 8 9]\n"
     ]
    }
   ],
   "source": [
    "a = np.arange(1, 10)\n",
    "print(a)"
   ]
  },
  {
   "cell_type": "code",
   "execution_count": 55,
   "metadata": {},
   "outputs": [
    {
     "name": "stdout",
     "output_type": "stream",
     "text": [
      "[1 3 5 7 9]\n"
     ]
    }
   ],
   "source": [
    "odds = np.arange(1, 10, 2)\n",
    "print(odds)"
   ]
  },
  {
   "cell_type": "code",
   "execution_count": 56,
   "metadata": {},
   "outputs": [
    {
     "name": "stdout",
     "output_type": "stream",
     "text": [
      "[0 2 4 6 8]\n"
     ]
    }
   ],
   "source": [
    "evens = np.arange(0, 10, 2)\n",
    "print(evens)"
   ]
  },
  {
   "cell_type": "code",
   "execution_count": 57,
   "metadata": {},
   "outputs": [
    {
     "name": "stdout",
     "output_type": "stream",
     "text": [
      "[0.   0.02 0.04 0.06 0.08 0.1  0.12 0.14 0.16 0.18 0.2  0.22 0.24 0.26\n",
      " 0.28 0.3  0.32 0.34 0.36 0.38 0.4  0.42 0.44 0.46 0.48 0.5  0.52 0.54\n",
      " 0.56 0.58 0.6  0.62 0.64 0.66 0.68 0.7  0.72 0.74 0.76 0.78 0.8  0.82\n",
      " 0.84 0.86 0.88 0.9  0.92 0.94 0.96 0.98]\n"
     ]
    }
   ],
   "source": [
    "numbers = np.arange(0, 1, 0.02)\n",
    "print(numbers)"
   ]
  },
  {
   "cell_type": "code",
   "execution_count": 58,
   "metadata": {},
   "outputs": [
    {
     "name": "stdout",
     "output_type": "stream",
     "text": [
      "[0. 0. 0. 0. 0. 0. 0. 0. 0. 0.]\n"
     ]
    }
   ],
   "source": [
    "a = np.zeros(10)\n",
    "print(a)"
   ]
  },
  {
   "cell_type": "code",
   "execution_count": 60,
   "metadata": {},
   "outputs": [
    {
     "name": "stdout",
     "output_type": "stream",
     "text": [
      "[1 1 1 1 1 1 1 1 1 1]\n"
     ]
    }
   ],
   "source": [
    "b = np.ones(10, dtype=int)\n",
    "print(b)"
   ]
  },
  {
   "cell_type": "code",
   "execution_count": 61,
   "metadata": {},
   "outputs": [
    {
     "name": "stdout",
     "output_type": "stream",
     "text": [
      "[2. 3. 4. 5.]\n"
     ]
    }
   ],
   "source": [
    "a = np.array([1, 2, 3, 4])\n",
    "b = np.ones(4)\n",
    "c = a + b\n",
    "print(c)"
   ]
  },
  {
   "cell_type": "code",
   "execution_count": 62,
   "metadata": {},
   "outputs": [
    {
     "name": "stdout",
     "output_type": "stream",
     "text": [
      "[ 4.  6.  8. 10.]\n"
     ]
    }
   ],
   "source": [
    "d = c * 2\n",
    "print(d)"
   ]
  },
  {
   "cell_type": "code",
   "execution_count": 63,
   "metadata": {},
   "outputs": [
    {
     "name": "stdout",
     "output_type": "stream",
     "text": [
      "[ 8. 18. 32. 50.]\n"
     ]
    }
   ],
   "source": [
    "e = c * d\n",
    "print(e)"
   ]
  },
  {
   "cell_type": "code",
   "execution_count": 64,
   "metadata": {},
   "outputs": [
    {
     "name": "stdout",
     "output_type": "stream",
     "text": [
      "[ 4.  9. 16. 25.]\n"
     ]
    }
   ],
   "source": [
    "f = e / 2\n",
    "print(f)"
   ]
  },
  {
   "cell_type": "code",
   "execution_count": 67,
   "metadata": {},
   "outputs": [
    {
     "name": "stdout",
     "output_type": "stream",
     "text": [
      "[0.  0.1 0.2 0.3 0.4 0.5 0.6 0.7 0.8 0.9]\n",
      "[0.         0.09983342 0.19866933 0.29552021 0.38941834 0.47942554\n",
      " 0.56464247 0.64421769 0.71735609 0.78332691]\n"
     ]
    }
   ],
   "source": [
    "numbers = np.arange(0, 1, 0.1)\n",
    "print(numbers)\n",
    "sin_numbers = np.sin(numbers)\n",
    "print(sin_numbers)"
   ]
  },
  {
   "cell_type": "code",
   "execution_count": 71,
   "metadata": {},
   "outputs": [
    {
     "name": "stdout",
     "output_type": "stream",
     "text": [
      "[61 74 56 89 23 29 86 74 13 51 14 61 89 27 22 86 10 24 64 76]\n"
     ]
    }
   ],
   "source": [
    "numbers = np.random.randint(1, 100, 20)\n",
    "print(numbers)"
   ]
  },
  {
   "cell_type": "code",
   "execution_count": 72,
   "metadata": {},
   "outputs": [
    {
     "name": "stdout",
     "output_type": "stream",
     "text": [
      "[ True False False  True  True  True False False  True  True False  True\n",
      "  True  True False False False False False False]\n"
     ]
    }
   ],
   "source": [
    "odd_index = numbers % 2 == 1\n",
    "print(odd_index)"
   ]
  },
  {
   "cell_type": "code",
   "execution_count": 73,
   "metadata": {},
   "outputs": [
    {
     "name": "stdout",
     "output_type": "stream",
     "text": [
      "[61 89 23 29 13 51 61 89 27]\n"
     ]
    }
   ],
   "source": [
    "odds = numbers[odd_index] # numbers[numbers%2==1]\n",
    "print(odds)"
   ]
  },
  {
   "cell_type": "code",
   "execution_count": 74,
   "metadata": {},
   "outputs": [
    {
     "name": "stdout",
     "output_type": "stream",
     "text": [
      "[74 56 86 74 14 22 86 10 24 64 76]\n"
     ]
    }
   ],
   "source": [
    "evens = numbers[numbers%2==0]\n",
    "print(evens)"
   ]
  },
  {
   "cell_type": "code",
   "execution_count": 75,
   "metadata": {},
   "outputs": [
    {
     "name": "stdout",
     "output_type": "stream",
     "text": [
      "[61 74 56 89 86 74 51 61 89 86 64 76]\n"
     ]
    }
   ],
   "source": [
    "a = numbers[numbers>50]\n",
    "print(a)"
   ]
  },
  {
   "cell_type": "code",
   "execution_count": 78,
   "metadata": {},
   "outputs": [
    {
     "name": "stdout",
     "output_type": "stream",
     "text": [
      "[ 1 74 56  1  1  1 86 74  1  1 14  1  1  1 22 86 10 24 64 76]\n",
      "[1 0 0 1 1 1 0 0 1 1 0 1 1 1 0 0 0 0 0 0]\n"
     ]
    }
   ],
   "source": [
    "numbers[numbers%2==1]=1\n",
    "print(numbers)\n",
    "numbers[numbers%2==0]=0\n",
    "print(numbers)"
   ]
  },
  {
   "cell_type": "code",
   "execution_count": 82,
   "metadata": {},
   "outputs": [
    {
     "name": "stdout",
     "output_type": "stream",
     "text": [
      "['Male' 'Female' 'Female' 'Female' 'Male' 'Male']\n",
      "['M' 'Female' 'Female' 'Female' 'M' 'M']\n",
      "['M' 'F' 'F' 'F' 'M' 'M']\n"
     ]
    }
   ],
   "source": [
    "genders = np.array(['Male', 'Female', 'Female', 'Female', 'Male', 'Male'])\n",
    "print(genders)\n",
    "genders[genders=='Male'] = 'M'\n",
    "print(genders)\n",
    "genders[genders=='Female'] = 'F'\n",
    "print(genders)"
   ]
  },
  {
   "cell_type": "code",
   "execution_count": 83,
   "metadata": {},
   "outputs": [
    {
     "name": "stdout",
     "output_type": "stream",
     "text": [
      "[31 25 94 40 83 98 41 58 61 64 12 53 19 97 36 13 94 66 51 94]\n"
     ]
    }
   ],
   "source": [
    "numbers = np.random.randint(10, 100, 20)\n",
    "print(numbers)"
   ]
  },
  {
   "cell_type": "code",
   "execution_count": 84,
   "metadata": {},
   "outputs": [
    {
     "name": "stdout",
     "output_type": "stream",
     "text": [
      "[12 36 40 58 64 66 94 94 94 98]\n"
     ]
    }
   ],
   "source": [
    "evens = numbers[numbers%2==0]\n",
    "evens.sort()\n",
    "print(evens)"
   ]
  },
  {
   "cell_type": "code",
   "execution_count": 85,
   "metadata": {},
   "outputs": [
    {
     "name": "stdout",
     "output_type": "stream",
     "text": [
      "[12 36 40 58 64 66 94 94 94 98 13 19 25 31 41 51 53 61 83 97]\n"
     ]
    }
   ],
   "source": [
    "odds = numbers[numbers%2==1]\n",
    "odds.sort()\n",
    "numbers = np.concatenate((evens, odds))\n",
    "print(numbers)"
   ]
  }
 ],
 "metadata": {
  "interpreter": {
   "hash": "397704579725e15f5c7cb49fe5f0341eb7531c82d19f2c29d197e8b64ab5776b"
  },
  "kernelspec": {
   "display_name": "Python 3.9.1 64-bit",
   "language": "python",
   "name": "python3"
  },
  "language_info": {
   "codemirror_mode": {
    "name": "ipython",
    "version": 3
   },
   "file_extension": ".py",
   "mimetype": "text/x-python",
   "name": "python",
   "nbconvert_exporter": "python",
   "pygments_lexer": "ipython3",
   "version": "3.8.5"
  },
  "orig_nbformat": 4
 },
 "nbformat": 4,
 "nbformat_minor": 2
}
