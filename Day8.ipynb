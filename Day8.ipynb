{
 "cells": [
  {
   "cell_type": "code",
   "execution_count": 1,
   "metadata": {},
   "outputs": [],
   "source": [
    "# Lambda function\n",
    "def my_max(items, key=lambda x: x):\n",
    "    m = items[0]\n",
    "    for n in items:\n",
    "        if key(n) > key(m):\n",
    "            m = n\n",
    "    return m"
   ]
  },
  {
   "cell_type": "code",
   "execution_count": 9,
   "metadata": {},
   "outputs": [
    {
     "name": "stdout",
     "output_type": "stream",
     "text": [
      "Zed\n"
     ]
    }
   ],
   "source": [
    "names = ['Alice', 'Bob', 'Charlie', 'David', 'Ev', 'Zed', 'Ginny', \n",
    "                  'Harrietet', 'Ileana', 'Joseph', 'Kincaid', 'Larry']\n",
    "\n",
    "print(my_max(names))"
   ]
  },
  {
   "cell_type": "code",
   "execution_count": 3,
   "metadata": {},
   "outputs": [
    {
     "name": "stdout",
     "output_type": "stream",
     "text": [
      "Ginny\n"
     ]
    }
   ],
   "source": [
    "# Get name that has max last character\n",
    "print(my_max(names, key=lambda x: x[-1]))"
   ]
  },
  {
   "cell_type": "code",
   "execution_count": 4,
   "metadata": {},
   "outputs": [
    {
     "name": "stdout",
     "output_type": "stream",
     "text": [
      "Charlie\n"
     ]
    }
   ],
   "source": [
    "# Get name that has most vowels\n",
    "print(my_max(names, key=lambda x: len([c for c in x if c.lower() in 'aeiou'])))"
   ]
  },
  {
   "cell_type": "code",
   "execution_count": 7,
   "metadata": {},
   "outputs": [
    {
     "name": "stdout",
     "output_type": "stream",
     "text": [
      "Harrietet\n"
     ]
    }
   ],
   "source": [
    "# Get name that has most consonants\n",
    "print(my_max(names, key=lambda x: len([c for c in x if c.lower() not in 'aeiou'])))"
   ]
  },
  {
   "cell_type": "code",
   "execution_count": 10,
   "metadata": {},
   "outputs": [
    {
     "name": "stdout",
     "output_type": "stream",
     "text": [
      "Ev\n"
     ]
    }
   ],
   "source": [
    "# Get shortest name\n",
    "print(my_max(names, key=lambda x: -len(x)))"
   ]
  },
  {
   "cell_type": "code",
   "execution_count": 11,
   "metadata": {},
   "outputs": [
    {
     "name": "stdout",
     "output_type": "stream",
     "text": [
      "[34, 14, 42, 65, 22, 69, 25, 18, 93, 20, 58, 83, 85, 59, 37, 71, 23, 96, 70, 64]\n"
     ]
    }
   ],
   "source": [
    "import random as rd \n",
    "numbers = rd.sample(range(10, 100), 20)\n",
    "print(numbers)\n",
    "# Get number that has max last digit\n",
    "print(my_max(numbers, key=lambda x: x % 10))"
   ]
  },
  {
   "cell_type": "code",
   "execution_count": 12,
   "metadata": {},
   "outputs": [
    {
     "name": "stdout",
     "output_type": "stream",
     "text": [
      "[34, 14, 42, 22, 18, 20, 58, 96, 70, 64]\n"
     ]
    }
   ],
   "source": [
    "# Filter function\n",
    "evens = [n for n in numbers if n % 2 == 0] # list comprehension (array: boolean indexing)\n",
    "print(evens)"
   ]
  },
  {
   "cell_type": "code",
   "execution_count": 13,
   "metadata": {},
   "outputs": [
    {
     "name": "stdout",
     "output_type": "stream",
     "text": [
      "[34, 14, 42, 22, 18, 20, 58, 96, 70, 64]\n"
     ]
    }
   ],
   "source": [
    "evens = list(filter(lambda x: x % 2 == 0, numbers)) # filter function\n",
    "print(evens)"
   ]
  },
  {
   "cell_type": "code",
   "execution_count": 14,
   "metadata": {},
   "outputs": [
    {
     "name": "stdout",
     "output_type": "stream",
     "text": [
      "[81, -95, 85, 69, 35, -29, -15, 45, 13, 37, 11, -41]\n",
      "[-32, -58, -95, -29, -15, -22, -41, -72]\n",
      "[92, 81, 50, 85, 69, 35, 56, 10, 45, 13, 37, 11]\n"
     ]
    }
   ],
   "source": [
    "numbers = rd.sample(range(-100, 100), 20)\n",
    "# Find odds in numbers\n",
    "odds = list(filter(lambda x: x % 2 == 1, numbers))\n",
    "print(odds)\n",
    "# Find negative numbers\n",
    "negs = list(filter(lambda x: x < 0, numbers))\n",
    "print(negs)\n",
    "# Find positive numbers\n",
    "pos = list(filter(lambda x: x > 0, numbers))\n",
    "print(pos)"
   ]
  },
  {
   "cell_type": "code",
   "execution_count": 15,
   "metadata": {},
   "outputs": [
    {
     "name": "stdout",
     "output_type": "stream",
     "text": [
      "24\n",
      "24\n"
     ]
    }
   ],
   "source": [
    "# Get sum of evens numbers using list comprehension\n",
    "print(sum([n for n in numbers if n % 2 == 0]))\n",
    "# Get sum of evens numbers using filter function\n",
    "print(sum(filter(lambda x: x % 2 == 0, numbers)))"
   ]
  },
  {
   "cell_type": "code",
   "execution_count": 16,
   "metadata": {},
   "outputs": [
    {
     "name": "stdout",
     "output_type": "stream",
     "text": [
      "-15\n"
     ]
    }
   ],
   "source": [
    "# Find max of negative numbers\n",
    "print(max(filter(lambda x: x < 0, numbers)))"
   ]
  },
  {
   "cell_type": "code",
   "execution_count": 17,
   "metadata": {},
   "outputs": [
    {
     "name": "stdout",
     "output_type": "stream",
     "text": [
      "-95\n",
      "-95\n"
     ]
    }
   ],
   "source": [
    "# Find max of absolute values of negative numbers\n",
    "print(max(filter(lambda x: x < 0, numbers), key=abs))\n",
    "print(max(filter(lambda x: x < 0, numbers), key=lambda x: -x))"
   ]
  },
  {
   "cell_type": "code",
   "execution_count": 21,
   "metadata": {},
   "outputs": [
    {
     "name": "stdout",
     "output_type": "stream",
     "text": [
      "[14, 16, 13, 2, 12, 5, 7, 17, 9, 1]\n",
      "[196, 256, 169, 4, 144, 25, 49, 289, 81, 1]\n",
      "[196, 256, 169, 4, 144, 25, 49, 289, 81, 1]\n"
     ]
    }
   ],
   "source": [
    "# Map function\n",
    "numbers = rd.sample(range(1, 20), 10)\n",
    "print(numbers)\n",
    "# Get square of numbers\n",
    "squares = list(map(lambda x: x**2, numbers))\n",
    "print(squares)\n",
    "# Get square of numbers using list comprehension\n",
    "squares = [n**2 for n in numbers]\n",
    "print(squares)"
   ]
  },
  {
   "cell_type": "code",
   "execution_count": 23,
   "metadata": {},
   "outputs": [
    {
     "name": "stdout",
     "output_type": "stream",
     "text": [
      "1214\n",
      "1214\n"
     ]
    }
   ],
   "source": [
    "# Calculate sum of squares\n",
    "print(sum(map(lambda x: x**2, numbers)))\n",
    "# Calculate sum of squares using list comprehension\n",
    "print(sum([n**2 for n in numbers]))"
   ]
  },
  {
   "cell_type": "code",
   "execution_count": 26,
   "metadata": {},
   "outputs": [
    {
     "name": "stdout",
     "output_type": "stream",
     "text": [
      "Name: Alice               , Phone: 5551234   , Salary:   100\n",
      "Name: Bob                 , Phone: aa55678   , Salary:   200\n",
      "Name: Charlieeeeeeeeeeeeeeeeeeeeee, Phone: 5558888   , Salary:   300\n",
      "Name: David               , Phone: 55555ab   , Salary:  4000\n",
      "Name: John Doe            , Phone: 5555555   , Salary:   500\n",
      "Name: Zed                 , Phone: 5555555   , Salary:   600\n"
     ]
    }
   ],
   "source": [
    "# Suppose we have a data of 2d list, each row contains name, phone and salary. \n",
    "employees = [['Alice', '5551234', 100],\n",
    "             ['Bob', 'aa55678', 200],\n",
    "             ['Charlieeeeeeeeeeeeeeeeeeeeee', '5558888', 300],\n",
    "             ['David', '55555ab', 4000],\n",
    "             ['', '5555555', 500],\n",
    "             ['Zed', '5555555', 600]]\n",
    "\n",
    "def print_employees(employees):\n",
    "    for e in employees:\n",
    "        print('Name: {0:20s}, Phone: {1:10s}, Salary: {2:5d}'.format(*e))\n",
    "\n",
    "# Empty name can be changed to a default name (John Doe)\n",
    "employees = list(map(lambda x: x if len(x[0]) > 0 else ['John Doe', x[1], x[2]], employees))\n",
    "print_employees(employees)\n"
   ]
  },
  {
   "cell_type": "code",
   "execution_count": 30,
   "metadata": {},
   "outputs": [
    {
     "name": "stdout",
     "output_type": "stream",
     "text": [
      "Name: Alice               , Phone: 5551234   , Salary:   100\n",
      "Name: Bob                 , Phone: aa55678   , Salary:   200\n",
      "Name: Charlieeeeeeeeeeeeee, Phone: 5558888   , Salary:   300\n",
      "Name: David               , Phone: 55555ab   , Salary:  4000\n",
      "Name: John Doe            , Phone: 5555555   , Salary:   500\n",
      "Name: Zed                 , Phone: 5555555   , Salary:   600\n"
     ]
    }
   ],
   "source": [
    "# Too long name should be truncated (max 20 characters)\n",
    "employees = list(map(lambda x: [x[0][:20], x[1], x[2]], employees))\n",
    "print_employees(employees)"
   ]
  },
  {
   "cell_type": "code",
   "execution_count": 28,
   "metadata": {},
   "outputs": [
    {
     "name": "stdout",
     "output_type": "stream",
     "text": [
      "John\n"
     ]
    }
   ],
   "source": [
    "name = 'John'\n",
    "name = name[:20]\n",
    "print(name)"
   ]
  }
 ],
 "metadata": {
  "interpreter": {
   "hash": "397704579725e15f5c7cb49fe5f0341eb7531c82d19f2c29d197e8b64ab5776b"
  },
  "kernelspec": {
   "display_name": "Python 3.9.1 64-bit",
   "language": "python",
   "name": "python3"
  },
  "language_info": {
   "codemirror_mode": {
    "name": "ipython",
    "version": 3
   },
   "file_extension": ".py",
   "mimetype": "text/x-python",
   "name": "python",
   "nbconvert_exporter": "python",
   "pygments_lexer": "ipython3",
   "version": "3.9.1"
  },
  "orig_nbformat": 4
 },
 "nbformat": 4,
 "nbformat_minor": 2
}
