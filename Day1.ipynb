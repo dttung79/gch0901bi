{
 "cells": [
  {
   "cell_type": "code",
   "execution_count": 1,
   "metadata": {},
   "outputs": [
    {
     "name": "stdout",
     "output_type": "stream",
     "text": [
      "hello world\n"
     ]
    }
   ],
   "source": [
    "print('hello world')"
   ]
  },
  {
   "cell_type": "code",
   "execution_count": 2,
   "metadata": {},
   "outputs": [
    {
     "name": "stdout",
     "output_type": "stream",
     "text": [
      "hello python\n"
     ]
    }
   ],
   "source": [
    "print('hello python')"
   ]
  },
  {
   "cell_type": "code",
   "execution_count": 10,
   "metadata": {},
   "outputs": [
    {
     "name": "stdout",
     "output_type": "stream",
     "text": [
      "Max = 9\n",
      "hello\n"
     ]
    }
   ],
   "source": [
    "a = int(input('Enter a: '))\n",
    "b = int(input('Enter b: '))\n",
    "\n",
    "m = a if a > b else b\n",
    "print('Max =', m)\n",
    "\n",
    "a = 'hello'\n",
    "print(a)"
   ]
  },
  {
   "cell_type": "code",
   "execution_count": 8,
   "metadata": {},
   "outputs": [],
   "source": [
    "# Nhap vao 3 diem toan, van, anh\n",
    "# Tinh trung binh, in ket qua (Pass: >= 5.0, Merit: >= 7.0, Distinction: >= 9.0)\n",
    "math = int(input('Enter math grade: '))\n",
    "liter = int(input('Enter literature grade: '))\n",
    "eng = int(input('Enter english grade: '))\n",
    "\n",
    "avg = (math + liter + eng) / 3\n",
    "result = 'Fail' if avg < 5.0 else 'Pass' if avg < 7.0 else 'Merit' if avg < 9.0 else 'Distinction'"
   ]
  },
  {
   "cell_type": "code",
   "execution_count": 13,
   "metadata": {},
   "outputs": [
    {
     "name": "stdout",
     "output_type": "stream",
     "text": [
      "+-----+----------+--------+\n",
      "| No  |Name      |   Grade|\n",
      "+-----+----------+--------+\n",
      "|  1  |Math      |       7|\n",
      "+-----+----------+--------+\n",
      "|  2  |Literature|       8|\n",
      "+-----+----------+--------+\n",
      "|  3  |English   |       8|\n",
      "+-----+----------+--------+\n",
      "|  4  |Average   |    7.67|\n",
      "+-----+----------+--------+\n",
      "|  5  |Result    |   Merit|\n",
      "+-----+----------+--------+\n"
     ]
    }
   ],
   "source": [
    "print('+-----+----------+--------+')\n",
    "print('|{0:^5s}|{1:10s}|{2:>8s}|'.format('No', 'Name', 'Grade'))\n",
    "print('+-----+----------+--------+')\n",
    "print('|{0:^5s}|{1:10s}|{2:>8d}|'.format('1', 'Math', math))\n",
    "print('+-----+----------+--------+')\n",
    "print('|{0:^5s}|{1:10s}|{2:>8d}|'.format('2', 'Literature', liter))\n",
    "print('+-----+----------+--------+')\n",
    "print('|{0:^5s}|{1:10s}|{2:>8d}|'.format('3', 'English', eng))\n",
    "print('+-----+----------+--------+')\n",
    "print('|{0:^5s}|{1:10s}|{2:>8.2f}|'.format('4', 'Average', avg))\n",
    "print('+-----+----------+--------+')\n",
    "print('|{0:^5s}|{1:10s}|{2:>8s}|'.format('5', 'Result', result))\n",
    "print('+-----+----------+--------+')"
   ]
  },
  {
   "cell_type": "code",
   "execution_count": 15,
   "metadata": {},
   "outputs": [],
   "source": [
    "s = 'Hello World'\n",
    "a = 100\n",
    "b = 3.14159"
   ]
  },
  {
   "cell_type": "code",
   "execution_count": 20,
   "metadata": {},
   "outputs": [
    {
     "name": "stdout",
     "output_type": "stream",
     "text": [
      "*************** - *************** - ***************\n",
      "Hello World     - 100             -      3.14      \n"
     ]
    }
   ],
   "source": [
    "print('*' * 15, '-', '*' * 15, '-', '*' * 15)\n",
    "print('{0:15s} - {1:<15d} - {2:^15.2f}'.format(s, a, b))"
   ]
  },
  {
   "cell_type": "code",
   "execution_count": null,
   "metadata": {},
   "outputs": [],
   "source": [
    "i = 1\n",
    "n = int(input('Enter n: '))\n",
    "while i <= n:\n",
    "    print('*' * i)\n",
    "    i = i + 1"
   ]
  }
 ],
 "metadata": {
  "interpreter": {
   "hash": "397704579725e15f5c7cb49fe5f0341eb7531c82d19f2c29d197e8b64ab5776b"
  },
  "kernelspec": {
   "display_name": "Python 3.9.1 64-bit",
   "language": "python",
   "name": "python3"
  },
  "language_info": {
   "codemirror_mode": {
    "name": "ipython",
    "version": 3
   },
   "file_extension": ".py",
   "mimetype": "text/x-python",
   "name": "python",
   "nbconvert_exporter": "python",
   "pygments_lexer": "ipython3",
   "version": "3.9.1"
  },
  "orig_nbformat": 4
 },
 "nbformat": 4,
 "nbformat_minor": 2
}
