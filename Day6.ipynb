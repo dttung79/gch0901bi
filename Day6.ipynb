{
 "cells": [
  {
   "cell_type": "code",
   "execution_count": null,
   "metadata": {},
   "outputs": [],
   "source": [
    "# for (i = 0; i < n; i++)"
   ]
  },
  {
   "cell_type": "code",
   "execution_count": null,
   "metadata": {},
   "outputs": [],
   "source": [
    "for i in range(0, 10):\n",
    "    print(i)"
   ]
  },
  {
   "cell_type": "code",
   "execution_count": null,
   "metadata": {},
   "outputs": [],
   "source": [
    "# foreach  (Object o in listObjects)"
   ]
  },
  {
   "cell_type": "code",
   "execution_count": 4,
   "metadata": {},
   "outputs": [
    {
     "name": "stdout",
     "output_type": "stream",
     "text": [
      "John\n",
      "Bob\n",
      "Mary\n"
     ]
    }
   ],
   "source": [
    "names = [\"John\", \"Bob\", \"Mary\"]\n",
    "for n in names:\n",
    "    print(n)"
   ]
  },
  {
   "cell_type": "code",
   "execution_count": 6,
   "metadata": {},
   "outputs": [
    {
     "name": "stdout",
     "output_type": "stream",
     "text": [
      "*\n",
      "**\n",
      "***\n",
      "****\n",
      "*****\n"
     ]
    }
   ],
   "source": [
    "n = int(input(\"Enter a n: \"))\n",
    "for i in range(0, n):\n",
    "    for j in range(0, i + 1):\n",
    "        print(\"*\", end=\"\")\n",
    "    print()"
   ]
  },
  {
   "cell_type": "code",
   "execution_count": 8,
   "metadata": {},
   "outputs": [
    {
     "name": "stdout",
     "output_type": "stream",
     "text": [
      "John stays in room 400\n",
      "Mike stays in room 431\n",
      "Obama stays in room 382\n",
      "Linda stays in room 102\n"
     ]
    }
   ],
   "source": [
    "rooms = {'John':400, 'Mike':431, 'Obama':382, 'Linda':102}\n",
    "for k, v in rooms.items():\n",
    "    print('{0} stays in room {1}'.format(k, v))"
   ]
  },
  {
   "cell_type": "code",
   "execution_count": 11,
   "metadata": {},
   "outputs": [
    {
     "name": "stdout",
     "output_type": "stream",
     "text": [
      "e*o*o*"
     ]
    }
   ],
   "source": [
    "msg = \"Hello World\"\n",
    "for c in msg:\n",
    "    if c in 'aeiou':\n",
    "        print(c, end=\"*\")"
   ]
  },
  {
   "cell_type": "code",
   "execution_count": 19,
   "metadata": {},
   "outputs": [
    {
     "name": "stdout",
     "output_type": "stream",
     "text": [
      "['John', 'Bob', 'Mary'] [4, 3, 4]\n"
     ]
    }
   ],
   "source": [
    "# List comprehension\n",
    "names = [\"John\", \"Bob\", \"Mary\"]\n",
    "names_len = [len(n) for n in names]\n",
    "print(names, names_len)"
   ]
  },
  {
   "cell_type": "code",
   "execution_count": 21,
   "metadata": {},
   "outputs": [
    {
     "name": "stdout",
     "output_type": "stream",
     "text": [
      "[96 41 62 35 41 99 52 69 45 71 49  5 72 10 13 59  8 20 81 13]\n"
     ]
    }
   ],
   "source": [
    "import numpy as np\n",
    "numbers = np.random.randint(0, 100, 20)\n",
    "print(numbers)"
   ]
  },
  {
   "cell_type": "code",
   "execution_count": 22,
   "metadata": {},
   "outputs": [
    {
     "name": "stdout",
     "output_type": "stream",
     "text": [
      "[96 62 52 72 10  8 20]\n"
     ]
    }
   ],
   "source": [
    "evens = numbers[numbers % 2 == 0]\n",
    "print(evens)"
   ]
  },
  {
   "cell_type": "code",
   "execution_count": 24,
   "metadata": {},
   "outputs": [
    {
     "name": "stdout",
     "output_type": "stream",
     "text": [
      "[84, 67, 62, 87, 68, 24, 35, 21, 51, 14, 33, 40, 30, 16, 12, 45, 31, 94, 27, 2]\n",
      "[84, 62, 68, 24, 14, 40, 30, 16, 12, 94, 2]\n"
     ]
    }
   ],
   "source": [
    "import random as rd\n",
    "numbers = rd.sample(range(0, 100), 20)\n",
    "print(numbers)\n",
    "evens = [n for n in numbers if n % 2 == 0]\n",
    "print(evens)"
   ]
  },
  {
   "cell_type": "code",
   "execution_count": 25,
   "metadata": {},
   "outputs": [
    {
     "name": "stdout",
     "output_type": "stream",
     "text": [
      "[25 43 20 21 78 73 63 75 69 63 95 85 32]\n",
      "[25, 43, 20, 21, 78, 73, 63, 75, 69, 63, 95, 85, 32]\n"
     ]
    }
   ],
   "source": [
    "numbers = np.random.randint(-100, 100, 20)\n",
    "# Filter positive numbers using boolean indexing and list comprehension\n",
    "positives = numbers[numbers > 0]\n",
    "print(positives)\n",
    "positives = [n for n in numbers if n > 0]\n",
    "print(positives)"
   ]
  },
  {
   "cell_type": "code",
   "execution_count": 27,
   "metadata": {},
   "outputs": [
    {
     "name": "stdout",
     "output_type": "stream",
     "text": [
      "['John Lennon', 'Ringo Starr', 'Pete Best']\n"
     ]
    }
   ],
   "source": [
    "names = ['John Lennon', 'Paul McCartney', 'George Harrison', 'Ringo Starr',\n",
    "         'Pete Best', 'Stuart Sutcliffe']\n",
    "# Find names which len <= 10\n",
    "short_names = [n for n in names if len(n) <= 11]\n",
    "print(short_names)"
   ]
  },
  {
   "cell_type": "code",
   "execution_count": 28,
   "metadata": {},
   "outputs": [
    {
     "name": "stdout",
     "output_type": "stream",
     "text": [
      "[ -17   25   43   20   21   78 -100   73   63   75  -55   69   63   95\n",
      "   85  -61   32  -61  -56  -73]\n"
     ]
    }
   ],
   "source": [
    "print(numbers)"
   ]
  },
  {
   "cell_type": "code",
   "execution_count": 29,
   "metadata": {},
   "outputs": [
    {
     "name": "stdout",
     "output_type": "stream",
     "text": [
      "[0, 1, 1, 1, 1, 1, 0, 1, 1, 1, 0, 1, 1, 1, 1, 0, 1, 0, 0, 0]\n"
     ]
    }
   ],
   "source": [
    "# Convert positive numbers to 1, negative numbers to 0\n",
    "new_numbers = [1 if n > 0 else 0 for n in numbers]\n",
    "print(new_numbers)"
   ]
  },
  {
   "cell_type": "code",
   "execution_count": 30,
   "metadata": {},
   "outputs": [
    {
     "name": "stdout",
     "output_type": "stream",
     "text": [
      "['John Lennon', 'John Doe', 'John Doe', 'Ringo Starr', 'Pete Best', 'John Doe']\n"
     ]
    }
   ],
   "source": [
    "# Convert long names to 'John Doe' (len > 11)\n",
    "convert_names = ['John Doe' if len(n) > 11 else n for n in names]\n",
    "print(convert_names)"
   ]
  },
  {
   "cell_type": "code",
   "execution_count": 31,
   "metadata": {},
   "outputs": [
    {
     "name": "stdout",
     "output_type": "stream",
     "text": [
      "[1, 6, 11, 16]\n"
     ]
    }
   ],
   "source": [
    "matrix = [[1, 2, 3, 4], [5, 6, 7, 8], [9, 10, 11, 12], [13, 14, 15, 16]]\n",
    "# Get diagonal elements\n",
    "diagonal = [matrix[i][i] for i in range(len(matrix))]\n",
    "print(diagonal)"
   ]
  },
  {
   "cell_type": "code",
   "execution_count": 32,
   "metadata": {},
   "outputs": [
    {
     "name": "stdout",
     "output_type": "stream",
     "text": [
      "[4, 7, 10, 13]\n"
     ]
    }
   ],
   "source": [
    "n = len(matrix)\n",
    "reversed_diagonal = [matrix[i][n - i - 1] for i in range(n)]\n",
    "print(reversed_diagonal)"
   ]
  }
 ],
 "metadata": {
  "interpreter": {
   "hash": "397704579725e15f5c7cb49fe5f0341eb7531c82d19f2c29d197e8b64ab5776b"
  },
  "kernelspec": {
   "display_name": "Python 3.9.1 64-bit",
   "language": "python",
   "name": "python3"
  },
  "language_info": {
   "codemirror_mode": {
    "name": "ipython",
    "version": 3
   },
   "file_extension": ".py",
   "mimetype": "text/x-python",
   "name": "python",
   "nbconvert_exporter": "python",
   "pygments_lexer": "ipython3",
   "version": "3.9.1"
  },
  "orig_nbformat": 4
 },
 "nbformat": 4,
 "nbformat_minor": 2
}
