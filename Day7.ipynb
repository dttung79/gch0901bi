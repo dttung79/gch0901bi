{
 "cells": [
  {
   "cell_type": "code",
   "execution_count": 2,
   "metadata": {},
   "outputs": [],
   "source": [
    "def add(a, b):\n",
    "    c = a + b\n",
    "    return c"
   ]
  },
  {
   "cell_type": "code",
   "execution_count": 3,
   "metadata": {},
   "outputs": [
    {
     "name": "stdout",
     "output_type": "stream",
     "text": [
      "7\n"
     ]
    }
   ],
   "source": [
    "print(add(4, 3))"
   ]
  },
  {
   "cell_type": "code",
   "execution_count": 4,
   "metadata": {},
   "outputs": [
    {
     "name": "stdout",
     "output_type": "stream",
     "text": [
      "helloworld\n"
     ]
    }
   ],
   "source": [
    "print(add('hello', 'world'))"
   ]
  },
  {
   "cell_type": "code",
   "execution_count": 5,
   "metadata": {},
   "outputs": [
    {
     "name": "stdout",
     "output_type": "stream",
     "text": [
      "[1, 3, 5, 2, 4, 6]\n"
     ]
    }
   ],
   "source": [
    "print(add([1, 3, 5], [2, 4, 6]))"
   ]
  },
  {
   "cell_type": "code",
   "execution_count": null,
   "metadata": {},
   "outputs": [],
   "source": [
    "print(add(4, 'world')) # error because of type mismatch"
   ]
  },
  {
   "cell_type": "code",
   "execution_count": 1,
   "metadata": {},
   "outputs": [],
   "source": [
    "def swap(a, b):\n",
    "    c = a\n",
    "    a = b\n",
    "    b = c\n",
    "    print('a:', a, 'b:', b)"
   ]
  },
  {
   "cell_type": "code",
   "execution_count": 3,
   "metadata": {},
   "outputs": [
    {
     "name": "stdout",
     "output_type": "stream",
     "text": [
      "a: hello b: 100\n",
      "a: 100 b: hello\n"
     ]
    }
   ],
   "source": [
    "a = 100\n",
    "b = 'hello'\n",
    "swap(a, b)\n",
    "print('a:', a, 'b:', b)"
   ]
  },
  {
   "cell_type": "code",
   "execution_count": 4,
   "metadata": {},
   "outputs": [
    {
     "name": "stdout",
     "output_type": "stream",
     "text": [
      "[100, 2, 3]\n",
      "['a', 'b', 'c']\n",
      "[100, 2, 3]\n"
     ]
    }
   ],
   "source": [
    "def change_list(a):\n",
    "    a[0] = 100\n",
    "    print(a)\n",
    "    a = ['a', 'b', 'c']\n",
    "    print(a)\n",
    "\n",
    "b = [1, 2, 3]\n",
    "change_list(b)\n",
    "print(b)"
   ]
  },
  {
   "cell_type": "code",
   "execution_count": 10,
   "metadata": {},
   "outputs": [
    {
     "name": "stdout",
     "output_type": "stream",
     "text": [
      "['H', 'e', 'l', 'l', 'o', ' ', 'w', 'o', 'r', 'l', 'd']\n",
      "Hello world\n"
     ]
    }
   ],
   "source": [
    "msg = 'hello world'\n",
    "msg = [c for c in msg] # convert string to list\n",
    "msg[0] = 'H'\n",
    "print(msg)\n",
    "msg = ''.join(msg) # convert list to string\n",
    "print(msg)"
   ]
  },
  {
   "cell_type": "code",
   "execution_count": 11,
   "metadata": {},
   "outputs": [
    {
     "name": "stdout",
     "output_type": "stream",
     "text": [
      "Equation 1x^2 + 2x + 1 = 0 has 1 roots.\n"
     ]
    }
   ],
   "source": [
    "# write a function which has 3 parameters a, b, c of a quadratric equation\n",
    "# return number of roots\n",
    "def quadratic(a, b, c):\n",
    "    d = b**2 - 4*a*c\n",
    "    return 0 if d < 0 else 1 if d == 0 else 2\n",
    "\n",
    "# enter 3 numbers a, b, c\n",
    "# print number of roots ax^2 + bx + c = 0\n",
    "a = int(input('a: '))\n",
    "b = int(input('b: '))\n",
    "c = int(input('c: '))\n",
    "print('Equation {0}x^2 + {1}x + {2} = 0 has {3} roots.'.format(a, b, c, quadratic(a, b, c)))"
   ]
  },
  {
   "cell_type": "code",
   "execution_count": 14,
   "metadata": {},
   "outputs": [
    {
     "name": "stdout",
     "output_type": "stream",
     "text": [
      "3777774777775\n"
     ]
    }
   ],
   "source": [
    "print(3, 4, 5, sep='77777')"
   ]
  },
  {
   "cell_type": "code",
   "execution_count": 20,
   "metadata": {},
   "outputs": [
    {
     "name": "stdout",
     "output_type": "stream",
     "text": [
      "[1, 2, 3, 4, 5, 6, 7, 8, 9]\n"
     ]
    }
   ],
   "source": [
    "a = [4, 9, 3, 5, 6, 7, 8, 1, 2]\n",
    "print(sorted(a, reverse=True))"
   ]
  },
  {
   "cell_type": "code",
   "execution_count": 21,
   "metadata": {},
   "outputs": [],
   "source": [
    "def my_func(a, b, msg='Hello', li=[9, 8, 7]):\n",
    "    print(a, b, msg, li, sep='\\n')"
   ]
  },
  {
   "cell_type": "code",
   "execution_count": 22,
   "metadata": {},
   "outputs": [
    {
     "name": "stdout",
     "output_type": "stream",
     "text": [
      "5\n",
      "6\n",
      "World\n",
      "[1, 2, 3]\n"
     ]
    }
   ],
   "source": [
    "my_func(5, 6, 'World', [1, 2, 3])"
   ]
  },
  {
   "cell_type": "code",
   "execution_count": 23,
   "metadata": {},
   "outputs": [
    {
     "name": "stdout",
     "output_type": "stream",
     "text": [
      "5\n",
      "6\n",
      "ABC\n",
      "[9, 8, 7]\n"
     ]
    }
   ],
   "source": [
    "my_func(5, 6, msg='ABC')"
   ]
  },
  {
   "cell_type": "code",
   "execution_count": 24,
   "metadata": {},
   "outputs": [
    {
     "name": "stdout",
     "output_type": "stream",
     "text": [
      "5\n",
      "6\n",
      "Hello\n",
      "[9, 8, 7]\n"
     ]
    }
   ],
   "source": [
    "my_func(5, 6)"
   ]
  },
  {
   "cell_type": "code",
   "execution_count": 34,
   "metadata": {},
   "outputs": [
    {
     "name": "stdout",
     "output_type": "stream",
     "text": [
      "5\n",
      "6\n",
      "ABC\n",
      "[1, 2, 3]\n"
     ]
    }
   ],
   "source": [
    "my_func(5, 6, msg='ABC', li=[1, 2, 3])"
   ]
  },
  {
   "cell_type": "code",
   "execution_count": 35,
   "metadata": {},
   "outputs": [
    {
     "name": "stdout",
     "output_type": "stream",
     "text": [
      "4\n",
      "3 4\n",
      "5 6 7\n"
     ]
    }
   ],
   "source": [
    "print(4)\n",
    "print(3, 4)\n",
    "print(5, 6, 7)"
   ]
  },
  {
   "cell_type": "code",
   "execution_count": 41,
   "metadata": {},
   "outputs": [],
   "source": [
    "def my_sum(*numbers):\n",
    "    print(type(numbers))\n",
    "    s = 0\n",
    "    for n in numbers:\n",
    "        s += n\n",
    "    return s "
   ]
  },
  {
   "cell_type": "code",
   "execution_count": 42,
   "metadata": {},
   "outputs": [
    {
     "name": "stdout",
     "output_type": "stream",
     "text": [
      "<class 'tuple'>\n",
      "22\n",
      "<class 'tuple'>\n",
      "0\n",
      "<class 'tuple'>\n",
      "25\n"
     ]
    }
   ],
   "source": [
    "print(my_sum(4, 9, 9))\n",
    "print(my_sum())\n",
    "print(my_sum(1, 3, 4, 8, 9))"
   ]
  },
  {
   "cell_type": "code",
   "execution_count": 43,
   "metadata": {},
   "outputs": [],
   "source": [
    "# write a my_min function that find min of any numbers passed to it\n",
    "def my_superieur(*numbers, findMin=True):\n",
    "    if len(numbers) == 0:\n",
    "        return None\n",
    "    m = numbers[0]\n",
    "    for n in numbers:\n",
    "        if findMin:\n",
    "            if n < m:\n",
    "                m = n\n",
    "        else:\n",
    "            if n > m:\n",
    "                m = n\n",
    "    return m"
   ]
  },
  {
   "cell_type": "code",
   "execution_count": 45,
   "metadata": {},
   "outputs": [
    {
     "name": "stdout",
     "output_type": "stream",
     "text": [
      "199\n"
     ]
    }
   ],
   "source": [
    "print(my_superieur(5, 9, 1, 23, 199, 23, findMin=False))"
   ]
  },
  {
   "cell_type": "code",
   "execution_count": 47,
   "metadata": {},
   "outputs": [],
   "source": [
    "def quadratic(a, b, c):\n",
    "    d = b**2 - 4*a*c\n",
    "    if d == 0:\n",
    "        return -b / (2*a)\n",
    "    elif d > 0:\n",
    "        return (-b + d**0.5) / (2*a), (-b - d**0.5) / (2*a)\n",
    "    else:\n",
    "        return None"
   ]
  },
  {
   "cell_type": "code",
   "execution_count": 50,
   "metadata": {},
   "outputs": [
    {
     "name": "stdout",
     "output_type": "stream",
     "text": [
      "(5.0, 1.0)\n"
     ]
    }
   ],
   "source": [
    "x1, x2 = quadratic(1, -6, 5)\n",
    "print(x1, x2)"
   ]
  },
  {
   "cell_type": "code",
   "execution_count": 49,
   "metadata": {},
   "outputs": [
    {
     "name": "stdout",
     "output_type": "stream",
     "text": [
      "-3.0\n"
     ]
    }
   ],
   "source": [
    "x0 = quadratic(1, 6, 9)\n",
    "print(x0)"
   ]
  },
  {
   "cell_type": "code",
   "execution_count": 53,
   "metadata": {},
   "outputs": [
    {
     "name": "stdout",
     "output_type": "stream",
     "text": [
      "Zed\n",
      "Charlie\n"
     ]
    }
   ],
   "source": [
    "names = ['Alice', 'Bob', 'Charlie', 'David', 'Eve', 'Zed', 'Ginny', \n",
    "                  'Harriet', 'Ileana', 'Joseph', 'Kincaid', 'Larry']\n",
    "print(max(names))\n",
    "print(max(names, key=len))"
   ]
  },
  {
   "cell_type": "code",
   "execution_count": 54,
   "metadata": {},
   "outputs": [
    {
     "name": "stdout",
     "output_type": "stream",
     "text": [
      "Ginny\n"
     ]
    }
   ],
   "source": [
    "# find name that has last character max\n",
    "def last_char(name):\n",
    "    return name[-1]\n",
    "\n",
    "print(max(names, key=last_char))"
   ]
  },
  {
   "cell_type": "code",
   "execution_count": 63,
   "metadata": {},
   "outputs": [],
   "source": [
    "# find name that has most vowels\n",
    "def vowel_count(name):\n",
    "    count = 0\n",
    "    for c in name:\n",
    "        if c.lower() in 'aeiou':\n",
    "            count += 1\n",
    "    return count\n",
    "\n",
    "def count_vowel(name):\n",
    "    return len([c for c in name if c.lower() in 'aeiou'])"
   ]
  },
  {
   "cell_type": "code",
   "execution_count": 64,
   "metadata": {},
   "outputs": [
    {
     "name": "stdout",
     "output_type": "stream",
     "text": [
      "['Alice', 'Bob', 'Charlie', 'David', 'Eve', 'Zed', 'Ginny', 'Harriet', 'Ileana', 'Joseph', 'Kincaid', 'Larry']\n",
      "Ileana\n",
      "Ileana\n"
     ]
    }
   ],
   "source": [
    "print(names)\n",
    "print(max(names, key=vowel_count))\n",
    "print(max(names, key=count_vowel))"
   ]
  },
  {
   "cell_type": "code",
   "execution_count": 65,
   "metadata": {},
   "outputs": [],
   "source": [
    "def identity(x):\n",
    "    return x\n",
    "\n",
    "def my_max(items, key=identity):\n",
    "    m = items[0]\n",
    "    for n in items:\n",
    "        if key(n) > key(m):\n",
    "            m = n\n",
    "    return m"
   ]
  },
  {
   "cell_type": "code",
   "execution_count": 70,
   "metadata": {},
   "outputs": [
    {
     "name": "stdout",
     "output_type": "stream",
     "text": [
      "['Alice', 'Bob', 'Charlie', 'David', 'Eve', 'Zed', 'Ginny', 'Harriet', 'Ileana', 'Joseph', 'Kincaid', 'Larry']\n",
      "Zed\n",
      "Charlie\n",
      "Ginny\n",
      "Ileana\n"
     ]
    }
   ],
   "source": [
    "print(names)\n",
    "print(my_max(names))\n",
    "print(my_max(names, key=len))\n",
    "print(my_max(names, key=last_char))\n",
    "print(my_max(names, key=vowel_count))"
   ]
  }
 ],
 "metadata": {
  "interpreter": {
   "hash": "397704579725e15f5c7cb49fe5f0341eb7531c82d19f2c29d197e8b64ab5776b"
  },
  "kernelspec": {
   "display_name": "Python 3.9.1 64-bit",
   "language": "python",
   "name": "python3"
  },
  "language_info": {
   "codemirror_mode": {
    "name": "ipython",
    "version": 3
   },
   "file_extension": ".py",
   "mimetype": "text/x-python",
   "name": "python",
   "nbconvert_exporter": "python",
   "pygments_lexer": "ipython3",
   "version": "3.9.1"
  },
  "orig_nbformat": 4
 },
 "nbformat": 4,
 "nbformat_minor": 2
}
