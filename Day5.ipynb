{
 "cells": [
  {
   "cell_type": "code",
   "execution_count": 1,
   "metadata": {},
   "outputs": [
    {
     "name": "stdout",
     "output_type": "stream",
     "text": [
      "{'John': 400, 'Mike': 431, 'Obama': 382, 'Linda': 102}\n"
     ]
    }
   ],
   "source": [
    "rooms = {'John':400, 'Mike':431, 'Obama':382, 'Linda':102}\n",
    "print(rooms)"
   ]
  },
  {
   "cell_type": "code",
   "execution_count": 2,
   "metadata": {},
   "outputs": [
    {
     "name": "stdout",
     "output_type": "stream",
     "text": [
      "{2: 'Monday', 3: 'Tuesday', 4: 'Wednesday', 5: 'Thursday'}\n"
     ]
    }
   ],
   "source": [
    "dows = {2: 'Monday', 3:'Tuesday', 4:'Wednesday', 5:'Thursday'}\n",
    "print(dows)"
   ]
  },
  {
   "cell_type": "code",
   "execution_count": 3,
   "metadata": {},
   "outputs": [
    {
     "name": "stdout",
     "output_type": "stream",
     "text": [
      "Wednesday\n"
     ]
    }
   ],
   "source": [
    "n = int(input('Enter day of week: '))\n",
    "print(dows[n])"
   ]
  },
  {
   "cell_type": "code",
   "execution_count": 4,
   "metadata": {},
   "outputs": [
    {
     "name": "stdout",
     "output_type": "stream",
     "text": [
      "Mike stays at 431\n"
     ]
    }
   ],
   "source": [
    "guest = input('Enter guest name: ')\n",
    "print('{0} stays at {1}'.format(guest, rooms[guest]))"
   ]
  },
  {
   "cell_type": "code",
   "execution_count": 5,
   "metadata": {},
   "outputs": [
    {
     "name": "stdout",
     "output_type": "stream",
     "text": [
      "{'John': 400, 'Mike': 431, 'Obama': 382, 'Linda': 102, 'Hoang': 300}\n"
     ]
    }
   ],
   "source": [
    "# insert element\n",
    "guest = input('Enter guest name: ')\n",
    "roomNo = int(input('Enter room number: '))\n",
    "rooms[guest] = roomNo\n",
    "print(rooms)"
   ]
  },
  {
   "cell_type": "code",
   "execution_count": 9,
   "metadata": {},
   "outputs": [],
   "source": [
    "guest = input('Enter guest name: ')\n",
    "if guest in rooms.keys():\n",
    "    roomNo = int(input('Enter room number to change: '))\n",
    "    rooms[guest] = roomNo\n",
    "else:\n",
    "    print('Guest {0} not exist'.format(guest))"
   ]
  },
  {
   "cell_type": "code",
   "execution_count": 10,
   "metadata": {},
   "outputs": [
    {
     "name": "stdout",
     "output_type": "stream",
     "text": [
      "{'John': 400, 'Mike': 431, 'Obama': 599, 'Linda': 599, 'Hoang': 300}\n"
     ]
    }
   ],
   "source": [
    "print(rooms)"
   ]
  },
  {
   "cell_type": "code",
   "execution_count": 11,
   "metadata": {},
   "outputs": [
    {
     "name": "stdout",
     "output_type": "stream",
     "text": [
      "All rooms: [400, 431, 599, 599, 300]\n"
     ]
    }
   ],
   "source": [
    "print('All rooms:', list(rooms.values()))"
   ]
  },
  {
   "cell_type": "code",
   "execution_count": 12,
   "metadata": {},
   "outputs": [
    {
     "name": "stdout",
     "output_type": "stream",
     "text": [
      "Guest Mike leaves room 431\n",
      "{'John': 400, 'Obama': 599, 'Linda': 599, 'Hoang': 300}\n"
     ]
    }
   ],
   "source": [
    "guest = input('Enter guest name: ')\n",
    "roomNo = rooms.pop(guest)\n",
    "print('Guest {0} leaves room {1}'.format(guest, roomNo))\n",
    "print(rooms)"
   ]
  },
  {
   "cell_type": "code",
   "execution_count": 13,
   "metadata": {},
   "outputs": [
    {
     "name": "stdout",
     "output_type": "stream",
     "text": [
      "{'Wave Alpha': 1000, 'Vision': 2000, 'SH': 4000, 'Lead': 1500}\n"
     ]
    }
   ],
   "source": [
    "bikes = {'Wave Alpha': 1000, 'Vision': 2000, 'SH':4000, 'Lead':1500}\n",
    "print(bikes)"
   ]
  },
  {
   "cell_type": "code",
   "execution_count": 15,
   "metadata": {},
   "outputs": [
    {
     "name": "stdout",
     "output_type": "stream",
     "text": [
      "2000\n",
      "2000\n"
     ]
    }
   ],
   "source": [
    "print(bikes.get('Vision'))\n",
    "print(bikes['Vision'])"
   ]
  },
  {
   "cell_type": "code",
   "execution_count": 16,
   "metadata": {},
   "outputs": [
    {
     "name": "stdout",
     "output_type": "stream",
     "text": [
      "Wave Alpha\n"
     ]
    }
   ],
   "source": [
    "print(max(bikes)) # max by keys"
   ]
  },
  {
   "cell_type": "code",
   "execution_count": 18,
   "metadata": {},
   "outputs": [
    {
     "name": "stdout",
     "output_type": "stream",
     "text": [
      "SH\n",
      "Most expensive bike is SH\n"
     ]
    }
   ],
   "source": [
    "print(max(bikes, key=bikes.get)) # max by values\n",
    "print('Most expensive bike is', max(bikes, key=bikes.get))"
   ]
  },
  {
   "cell_type": "code",
   "execution_count": null,
   "metadata": {},
   "outputs": [],
   "source": [
    "names = ['John', 'Mike', 'Obama', 'Linda']\n",
    "# find names has vowels in it\n",
    "print([name for name in names if any(vowel in name for vowel in 'aeiou')])"
   ]
  }
 ],
 "metadata": {
  "interpreter": {
   "hash": "397704579725e15f5c7cb49fe5f0341eb7531c82d19f2c29d197e8b64ab5776b"
  },
  "kernelspec": {
   "display_name": "Python 3.9.1 64-bit",
   "language": "python",
   "name": "python3"
  },
  "language_info": {
   "codemirror_mode": {
    "name": "ipython",
    "version": 3
   },
   "file_extension": ".py",
   "mimetype": "text/x-python",
   "name": "python",
   "nbconvert_exporter": "python",
   "pygments_lexer": "ipython3",
   "version": "3.9.1"
  },
  "orig_nbformat": 4
 },
 "nbformat": 4,
 "nbformat_minor": 2
}
